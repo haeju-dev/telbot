{
 "cells": [
  {
   "cell_type": "code",
   "execution_count": 1,
   "metadata": {
    "collapsed": true
   },
   "outputs": [
    {
     "data": {
      "text/plain": [
       "{'first_name': 'testbot',\n 'id': 694271764,\n 'is_bot': True,\n 'username': 'testminbot'}"
      ]
     },
     "execution_count": 1,
     "metadata": {},
     "output_type": "execute_result"
    }
   ],
   "source": [
    "import telepot\n",
    "from pprint import pprint\n",
    "from telepot.loop import MessageLoop\n",
    "import json\n",
    "import clipboard\n",
    "\n",
    "bot = telepot.Bot('694271764:AAGOyAluTq1Lq9KyHnZpDIzT4pUUMKNhGKU')\n",
    "bot.getMe()"
   ]
  },
  {
   "cell_type": "code",
   "execution_count": 3,
   "metadata": {
    "collapsed": true
   },
   "outputs": [
    {
     "data": {
      "text/plain": [
       "{'first_name': 'testbot',\n 'id': 694271764,\n 'is_bot': True,\n 'username': 'testminbot'}"
      ]
     },
     "execution_count": 1,
     "metadata": {},
     "output_type": "execute_result"
    }
   ],
   "source": [
    "\n",
    "response = bot.getUpdates()\n",
    "pprint(response)\n",
    "clipboard.copy(json.dumps(response))\n"
   ]
  },
  {
   "cell_type": "code",
   "execution_count": 4,
   "metadata": {},
   "outputs": [],
   "source": [
    "response = bot.sendMessage(659390052, 'Hey!')\n",
    "clipboard.copy(json.dumps(response)) # response(dictionary) -> response(json) -> Ctrl+C"
   ]
  },
  {
   "cell_type": "code",
   "execution_count": 2,
   "metadata": {},
   "outputs": [],
   "source": [
    "chatids = list()"
   ]
  },
  {
   "cell_type": "code",
   "execution_count": 3,
   "metadata": {},
   "outputs": [],
   "source": [
    "def handle(msg):\n",
    "    content_type, chat_type, chat_id = telepot.glance(msg)\n",
    "    print(content_type, chat_type, chat_id)\n",
    "\n",
    "    if content_type == 'text':\n",
    "        if msg['text'] == '/addme':\n",
    "            if not(msg['chat_id'] in chatids):\n",
    "                chatids.append(msg['chat_id'])\n",
    "                bot.sendMessage(chat_id, 'success')\n",
    "            else:\n",
    "                bot.sendMessage(chat_id, 'already listed')\n",
    "        if msg['text'] == '/broadcast':\n",
    "            bot.broadcast\n",
    "        else:\n",
    "            bot.sendMessage(chat_id, msg['text'])\n",
    "    \n",
    "MessageLoop(bot, handle).run_as_thread()"
   ]
  },
  {
   "cell_type": "code",
   "execution_count": null,
   "metadata": {},
   "outputs": [],
   "source": []
  }
 ],
 "metadata": {
  "kernelspec": {
   "display_name": "Python 2",
   "language": "python",
   "name": "python2"
  },
  "language_info": {
   "codemirror_mode": {
    "name": "ipython",
    "version": 2
   },
   "file_extension": ".py",
   "mimetype": "text/x-python",
   "name": "python",
   "nbconvert_exporter": "python",
   "pygments_lexer": "ipython2",
   "version": "2.7.6"
  }
 },
 "nbformat": 4,
 "nbformat_minor": 0
}
