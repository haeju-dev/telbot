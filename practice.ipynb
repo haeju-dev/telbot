{
 "cells": [
  {
   "cell_type": "code",
   "execution_count": null,
   "metadata": {
    "collapsed": true
   },
   "outputs": [],
   "source": [
    "import telepot\n",
    "from pprint import pprint\n",
    "from telepot.loop import MessageLoop\n",
    "import json\n",
    "import clipboard"
   ]
  },
  {
   "cell_type": "code",
   "execution_count": 6,
   "metadata": {},
   "outputs": [
    {
     "name": "stdout",
     "output_type": "stream",
     "text": [
      "error\n"
     ]
    }
   ],
   "source": [
    "a = '1.2'\n",
    "try:\n",
    "    print(int(a))\n",
    "except:\n",
    "    print('error')"
   ]
  },
  {
   "cell_type": "code",
   "execution_count": 7,
   "metadata": {},
   "outputs": [],
   "source": [
    "class testclass:\n",
    "    def __init__(self, a, b = 0):\n",
    "        if not(type(b) is type(int())):\n",
    "            raise Exception('b is not INTEGER')\n",
    "        else:\n",
    "            self.a = a\n",
    "            self.b = b\n",
    "    \n",
    "    def selfprint(self):\n",
    "        print(self.a)\n",
    "        print(self.b)\n",
    "        try:\n",
    "            return self.a + self.b\n",
    "        except:\n",
    "            return str(self.a) + str(self.b)"
   ]
  },
  {
   "cell_type": "code",
   "execution_count": 12,
   "metadata": {},
   "outputs": [
    {
     "name": "stdout",
     "output_type": "stream",
     "text": [
      "0\n3\n0\n\n1\n3\n0\n\n"
     ]
    }
   ],
   "source": [
    "myclass = list()\n",
    "myclass.append(testclass(a = 3))\n",
    "#myclass.append(testclass(b = 3)) #--> Error\n",
    "myclass.append(testclass(3))\n",
    "\n",
    "for i in range(len(myclass)):\n",
    "    try:\n",
    "        print(str(i))\n",
    "        myclass[i].selfprint()\n",
    "        print()\n",
    "    except Exception as inst:\n",
    "        print(inst)"
   ]
  },
  {
   "cell_type": "code",
   "execution_count": null,
   "metadata": {},
   "outputs": [],
   "source": []
  }
 ],
 "metadata": {
  "kernelspec": {
   "display_name": "Python 2",
   "language": "python",
   "name": "python2"
  },
  "language_info": {
   "codemirror_mode": {
    "name": "ipython",
    "version": 2
   },
   "file_extension": ".py",
   "mimetype": "text/x-python",
   "name": "python",
   "nbconvert_exporter": "python",
   "pygments_lexer": "ipython2",
   "version": "2.7.6"
  }
 },
 "nbformat": 4,
 "nbformat_minor": 0
}
